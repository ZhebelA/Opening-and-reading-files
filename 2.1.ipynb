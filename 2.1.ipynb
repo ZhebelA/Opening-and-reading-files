{
 "cells": [
  {
   "cell_type": "code",
   "execution_count": 217,
   "metadata": {},
   "outputs": [],
   "source": [
    "from pprint import pprint\n",
    "file = 'cook_book.txt'"
   ]
  },
  {
   "cell_type": "code",
   "execution_count": 218,
   "metadata": {},
   "outputs": [],
   "source": [
    "def cook_book_reader(file):\n",
    "    with open(file, encoding = 'utf-8') as file:\n",
    "        cook_book = {}\n",
    "        for line in file:\n",
    "            dish = line.strip()\n",
    "            ings = []\n",
    "            for item in range(int(file.readline())):\n",
    "                ing = file.readline().strip().split(sep='|')\n",
    "                ing_list = {}\n",
    "                ing_list['ingredient_name'] = ing[0]\n",
    "                ing_list['quantity'] = ing[1]\n",
    "                ing_list['measure'] = ing[2]\n",
    "                ings.append(ing_list)\n",
    "                cook_book[dish] = ings\n",
    "            file.readline()\n",
    "        return cook_book"
   ]
  },
  {
   "cell_type": "code",
   "execution_count": 219,
   "metadata": {},
   "outputs": [
    {
     "name": "stdout",
     "output_type": "stream",
     "text": [
      "{'Запеченный картофель': [{'ingredient_name': 'Картофель ',\n",
      "                           'measure': ' кг',\n",
      "                           'quantity': ' 1 '},\n",
      "                          {'ingredient_name': 'Чеснок ',\n",
      "                           'measure': ' зубч',\n",
      "                           'quantity': ' 3 '},\n",
      "                          {'ingredient_name': 'Сыр гауда ',\n",
      "                           'measure': ' г',\n",
      "                           'quantity': ' 100 '}],\n",
      " 'Омлет': [{'ingredient_name': 'Яйцо ', 'measure': ' шт', 'quantity': ' 2 '},\n",
      "           {'ingredient_name': 'Молоко ',\n",
      "            'measure': ' мл',\n",
      "            'quantity': ' 100 '},\n",
      "           {'ingredient_name': 'Помидор ',\n",
      "            'measure': ' шт',\n",
      "            'quantity': ' 2 '}],\n",
      " 'Утка по-пекински': [{'ingredient_name': 'Утка ',\n",
      "                       'measure': ' шт',\n",
      "                       'quantity': ' 1 '},\n",
      "                      {'ingredient_name': 'Вода ',\n",
      "                       'measure': ' л',\n",
      "                       'quantity': ' 2 '},\n",
      "                      {'ingredient_name': 'Мед ',\n",
      "                       'measure': ' ст.л',\n",
      "                       'quantity': ' 3 '},\n",
      "                      {'ingredient_name': 'Соевый соус ',\n",
      "                       'measure': ' мл',\n",
      "                       'quantity': ' 60 '}],\n",
      " 'Фахитос': [{'ingredient_name': 'Говядина ',\n",
      "              'measure': ' г',\n",
      "              'quantity': ' 500 '},\n",
      "             {'ingredient_name': 'Перец сладкий ',\n",
      "              'measure': ' шт',\n",
      "              'quantity': ' 1 '},\n",
      "             {'ingredient_name': 'Лаваш ', 'measure': ' шт', 'quantity': ' 2 '},\n",
      "             {'ingredient_name': 'Винный уксус ',\n",
      "              'measure': ' ст.л',\n",
      "              'quantity': ' 1 '},\n",
      "             {'ingredient_name': 'Помидор ',\n",
      "              'measure': ' шт',\n",
      "              'quantity': ' 2 '}]}\n"
     ]
    }
   ],
   "source": [
    "pprint (cook_book_reader(file))"
   ]
  }
 ],
 "metadata": {
  "kernelspec": {
   "display_name": "Python 3.10.5 64-bit",
   "language": "python",
   "name": "python3"
  },
  "language_info": {
   "codemirror_mode": {
    "name": "ipython",
    "version": 3
   },
   "file_extension": ".py",
   "mimetype": "text/x-python",
   "name": "python",
   "nbconvert_exporter": "python",
   "pygments_lexer": "ipython3",
   "version": "3.10.5"
  },
  "orig_nbformat": 4,
  "vscode": {
   "interpreter": {
    "hash": "a4e1f50763f85646ed7b411ed4bd8a9bd449b85ee12d00e810ba63bd081dddd0"
   }
  }
 },
 "nbformat": 4,
 "nbformat_minor": 2
}

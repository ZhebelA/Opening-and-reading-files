{
 "cells": [
  {
   "cell_type": "code",
   "execution_count": 220,
   "metadata": {},
   "outputs": [],
   "source": [
    "from pprint import pprint\n",
    "file = 'cook_book.txt'"
   ]
  },
  {
   "cell_type": "code",
   "execution_count": 221,
   "metadata": {},
   "outputs": [],
   "source": [
    "def cook_book_reader(file):\n",
    "    with open(file, encoding = 'utf-8') as file:\n",
    "        cook_book = {}\n",
    "        for line in file:\n",
    "            dish = line.strip()\n",
    "            ings = []\n",
    "            for item in range(int(file.readline())):\n",
    "                ing = file.readline().strip().split(sep='|')\n",
    "                ing_list = {}\n",
    "                ing_list['ingredient_name'] = ing[0]\n",
    "                ing_list['quantity'] = ing[1]\n",
    "                ing_list['measure'] = ing[2]\n",
    "                ings.append(ing_list)\n",
    "                cook_book[dish] = ings\n",
    "            file.readline()\n",
    "        return cook_book"
   ]
  },
  {
   "cell_type": "code",
   "execution_count": null,
   "metadata": {},
   "outputs": [],
   "source": [
    "pprint (cook_book_reader(file))"
   ]
  },
  {
   "cell_type": "code",
   "execution_count": 306,
   "metadata": {},
   "outputs": [
    {
     "name": "stdout",
     "output_type": "stream",
     "text": [
      "{'Винный уксус ': {'measure: ст.л', 'quantity: 1'},\n",
      " 'Говядина ': {'measure: г', 'quantity: 500'},\n",
      " 'Лаваш ': {'quantity: 2', 'measure: шт'},\n",
      " 'Молоко ': {'quantity: 100', 'measure: мл'},\n",
      " 'Перец сладкий ': {'quantity: 1', 'measure: шт'},\n",
      " 'Помидор ': {'quantity: 2', 'measure: шт'},\n",
      " 'Яйцо ': {'quantity: 2', 'measure: шт'}}\n"
     ]
    }
   ],
   "source": [
    "def get_shop_list_by_dishes(dishes, person_count):\n",
    "    file = 'cook_book.txt'\n",
    "    shop_list = {}\n",
    "    with open(file, encoding = 'utf-8') as file:\n",
    "        for line in file:\n",
    "            for dish in dishes:\n",
    "                if dish in line:\n",
    "                    for item in range(int(file.readline())):\n",
    "                        ing = file.readline().strip().split(sep='|')\n",
    "                        count = int(int(ing[1])*int(person_count))\n",
    "                        shop_list[ing[0]] = {'quantity: ' + str(count), 'measure:'+ ing[2]}\n",
    "        return shop_list\n",
    "pprint(get_shop_list_by_dishes(['Омлет', 'Фахитос'], 1))\n"
   ]
  }
 ],
 "metadata": {
  "kernelspec": {
   "display_name": "Python 3.10.5 64-bit",
   "language": "python",
   "name": "python3"
  },
  "language_info": {
   "codemirror_mode": {
    "name": "ipython",
    "version": 3
   },
   "file_extension": ".py",
   "mimetype": "text/x-python",
   "name": "python",
   "nbconvert_exporter": "python",
   "pygments_lexer": "ipython3",
   "version": "3.10.5"
  },
  "orig_nbformat": 4,
  "vscode": {
   "interpreter": {
    "hash": "a4e1f50763f85646ed7b411ed4bd8a9bd449b85ee12d00e810ba63bd081dddd0"
   }
  }
 },
 "nbformat": 4,
 "nbformat_minor": 2
}

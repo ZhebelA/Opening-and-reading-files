{
 "cells": [
  {
   "cell_type": "code",
   "execution_count": 537,
   "metadata": {},
   "outputs": [],
   "source": [
    "from pprint import pprint\n",
    "file = 'cook_book.txt'"
   ]
  },
  {
   "cell_type": "code",
   "execution_count": 541,
   "metadata": {},
   "outputs": [],
   "source": [
    "def cook_book_reader(file):\n",
    "    with open(file, encoding = 'utf-8') as file:\n",
    "        cook_book = {}\n",
    "        for line in file:\n",
    "            dish = line.strip()\n",
    "            ings = []\n",
    "            for item in range(int(file.readline())):\n",
    "                ing = file.readline().strip().split(sep='|')\n",
    "                ing_list = {}\n",
    "                ing_list['ingredient_name'] = ing[0]\n",
    "                ing_list['quantity'] = ing[1]\n",
    "                ing_list['measure'] = ing[2]\n",
    "                ings.append(ing_list)\n",
    "                cook_book[dish] = ings\n",
    "            file.readline()\n",
    "        return cook_book"
   ]
  },
  {
   "cell_type": "code",
   "execution_count": null,
   "metadata": {},
   "outputs": [],
   "source": [
    "def get_shop_list_by_dishes(dishes, person_count):\n",
    "    file = 'cook_book.txt'\n",
    "    shop_list = {}\n",
    "    with open(file, encoding = 'utf-8') as file:\n",
    "        for line in file:\n",
    "            for dish in dishes:\n",
    "                if dish in line:\n",
    "                    for item in range(int(file.readline())):\n",
    "                        ing = file.readline().strip().split(sep='|')\n",
    "                        count = int(int(ing[1])*int(person_count))\n",
    "                        shop_list[ing[0]] = {'quantity: ' + str(count), 'measure:'+ ing[2]}\n",
    "        return shop_list\n",
    "pprint(get_shop_list_by_dishes(['Омлет', 'Фахитос'], 1))\n"
   ]
  },
  {
   "cell_type": "code",
   "execution_count": null,
   "metadata": {},
   "outputs": [],
   "source": [
    "def res_file(*files):\n",
    "    files_list = {}\n",
    "    for file in files:\n",
    "        with open(file, encoding = 'utf=8') as file_1:\n",
    "            text = file_1.readlines()\n",
    "            files_list[file] = text\n",
    "    sorted_files_list = {}\n",
    "    sorted_files = sorted(files_list.values(), key=len)\n",
    "    for file in sorted_files:\n",
    "        for key in files_list:\n",
    "            if files_list[key] == file:\n",
    "                sorted_files_list[key]=file\n",
    "    for f, txt in sorted_files_list.items():\n",
    "        text_lenth = len(txt)\n",
    "        with open('res.txt', 'a', encoding='utf-8') as result_file:\n",
    "            result_file.write(f+'\\n')\n",
    "            result_file.write(str(text_lenth))\n",
    "            for line in txt:\n",
    "                if '\\n' in line:\n",
    "                    result_file.write(line)\n",
    "                else:\n",
    "                    result_file.write(line+'\\n')\n",
    "\n",
    "\n",
    "res_file('1.txt', '2.txt', '3.txt')\n",
    "   \n",
    "   "
   ]
  }
 ],
 "metadata": {
  "kernelspec": {
   "display_name": "Python 3.10.5 64-bit",
   "language": "python",
   "name": "python3"
  },
  "language_info": {
   "name": "python",
   "version": "3.10.5"
  },
  "orig_nbformat": 4,
  "vscode": {
   "interpreter": {
    "hash": "a4e1f50763f85646ed7b411ed4bd8a9bd449b85ee12d00e810ba63bd081dddd0"
   }
  }
 },
 "nbformat": 4,
 "nbformat_minor": 2
}
